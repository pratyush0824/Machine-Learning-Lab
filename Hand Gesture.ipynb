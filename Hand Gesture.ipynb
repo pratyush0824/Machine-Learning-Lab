{
  "nbformat": 4,
  "nbformat_minor": 0,
  "metadata": {
    "colab": {
      "name": "Hand_Gesture.ipynb",
      "provenance": []
    },
    "kernelspec": {
      "name": "python3",
      "display_name": "Python 3"
    },
    "accelerator": "GPU"
  },
  "cells": [
    {
      "cell_type": "code",
      "metadata": {
        "id": "AlGBecGo4MVh",
        "colab_type": "code",
        "outputId": "253399b4-80bf-4a98-87d0-d11fb523a963",
        "colab": {
          "base_uri": "https://localhost:8080/",
          "height": 122
        }
      },
      "source": [
        "from google.colab import drive\n",
        "drive.mount('/content/gdrive')"
      ],
      "execution_count": 1,
      "outputs": [
        {
          "output_type": "stream",
          "text": [
            "Go to this URL in a browser: https://accounts.google.com/o/oauth2/auth?client_id=947318989803-6bn6qk8qdgf4n4g3pfee6491hc0brc4i.apps.googleusercontent.com&redirect_uri=urn%3Aietf%3Awg%3Aoauth%3A2.0%3Aoob&scope=email%20https%3A%2F%2Fwww.googleapis.com%2Fauth%2Fdocs.test%20https%3A%2F%2Fwww.googleapis.com%2Fauth%2Fdrive%20https%3A%2F%2Fwww.googleapis.com%2Fauth%2Fdrive.photos.readonly%20https%3A%2F%2Fwww.googleapis.com%2Fauth%2Fpeopleapi.readonly&response_type=code\n",
            "\n",
            "Enter your authorization code:\n",
            "··········\n",
            "Mounted at /content/gdrive\n"
          ],
          "name": "stdout"
        }
      ]
    },
    {
      "cell_type": "code",
      "metadata": {
        "id": "oZw6mj3h4TRD",
        "colab_type": "code",
        "outputId": "24cef1d7-d2d0-4168-c9cb-db6a1b971b84",
        "colab": {
          "base_uri": "https://localhost:8080/",
          "height": 34
        }
      },
      "source": [
        "cd gdrive/My Drive/ml"
      ],
      "execution_count": 2,
      "outputs": [
        {
          "output_type": "stream",
          "text": [
            "/content/gdrive/My Drive/ml\n"
          ],
          "name": "stdout"
        }
      ]
    },
    {
      "cell_type": "code",
      "metadata": {
        "id": "xogUd-c14e6S",
        "colab_type": "code",
        "outputId": "60670b0d-b287-42e0-90d4-62a35cd4c9e3",
        "colab": {
          "base_uri": "https://localhost:8080/",
          "height": 33
        }
      },
      "source": [
        "\"\"\"\n",
        "!pip install sh\n",
        "from sh import gunzip\n",
        "\n",
        "gunzip('Lab0609.tar.gz')\n",
        "\n",
        "\"\"\""
      ],
      "execution_count": 0,
      "outputs": [
        {
          "output_type": "execute_result",
          "data": {
            "text/plain": [
              "\"\\n!pip install sh\\nfrom sh import gunzip\\n\\ngunzip('Lab0609.tar.gz')\\n\\n\""
            ]
          },
          "metadata": {
            "tags": []
          },
          "execution_count": 4
        }
      ]
    },
    {
      "cell_type": "code",
      "metadata": {
        "id": "oYXWAphl4kDk",
        "colab_type": "code",
        "outputId": "f18620eb-fcc1-4058-e57f-a2dfca828ff8",
        "colab": {
          "base_uri": "https://localhost:8080/",
          "height": 33
        }
      },
      "source": [
        "\"\"\"\n",
        "import tarfile\n",
        "tar = tarfile.open(\"Lab0609.tar\")\n",
        "tar.extractall()\n",
        "tar.close()\n",
        "\"\"\""
      ],
      "execution_count": 0,
      "outputs": [
        {
          "output_type": "execute_result",
          "data": {
            "text/plain": [
              "'\\nimport tarfile\\ntar = tarfile.open(\"Lab0609.tar\")\\ntar.extractall()\\ntar.close()\\n'"
            ]
          },
          "metadata": {
            "tags": []
          },
          "execution_count": 5
        }
      ]
    },
    {
      "cell_type": "code",
      "metadata": {
        "id": "ogTlQnQF9uMx",
        "colab_type": "code",
        "colab": {}
      },
      "source": [
        "import os\n",
        "import cv2\n",
        "import numpy as np\n",
        "import pandas as pd\n",
        "from google.colab.patches import cv2_imshow\n",
        "import matplotlib.pyplot as plt"
      ],
      "execution_count": 0,
      "outputs": []
    },
    {
      "cell_type": "code",
      "metadata": {
        "id": "bTto7Hp8ARd2",
        "colab_type": "code",
        "outputId": "1a939097-e186-4ce4-d50c-5b8804ca03ab",
        "colab": {
          "base_uri": "https://localhost:8080/",
          "height": 1000
        }
      },
      "source": [
        "for item in os.listdir('Lab0609'):\n",
        "  i = 0\n",
        "  for image in os.listdir('Lab0609/'+item):\n",
        "    img=cv2.imread('Lab0609/'+item+'/'+image)\n",
        "    i+=1\n",
        "    if i%10 == 0:\n",
        "      print(image)\n",
        "      gray_img=cv2.cvtColor(img,cv2.COLOR_BGR2GRAY)\n",
        "      ret2,th2 = cv2.threshold(gray_img,5,255,cv2.THRESH_BINARY+cv2.THRESH_OTSU)\n",
        "      cv2_imshow(th2)\n",
        "    if i%50 == 0:\n",
        "      break"
      ],
      "execution_count": 0,
      "outputs": [
        {
          "output_type": "stream",
          "text": [
            "A2348.jpg\n"
          ],
          "name": "stdout"
        },
        {
          "output_type": "display_data",
          "data": {
            "image/png": "[encoded data removed]",
            "text/plain": [
              "<PIL.Image.Image image mode=L size=200x200 at 0x7FDA0212E940>"
            ]
          },
          "metadata": {
            "tags": []
          }
        },
        {
          "output_type": "stream",
          "text": [
            "A1157.jpg\n"
          ],
          "name": "stdout"
        },
        {
          "output_type": "display_data",
          "data": {
            "image/png": "[encoded data removed]",
            "text/plain": [
              "<PIL.Image.Image image mode=L size=200x200 at 0x7FDA02096898>"
            ]
          },
          "metadata": {
            "tags": []
          }
        },
        {
          "output_type": "stream",
          "text": [
            "A1817.jpg\n"
          ],
          "name": "stdout"
        },
        {
          "output_type": "display_data",
          "data": {
            "image/png": "[encoded data removed]",
            "text/plain": [
              "<PIL.Image.Image image mode=L size=200x200 at 0x7FDA020A6EF0>"
            ]
          },
          "metadata": {
            "tags": []
          }
        },
        {
          "output_type": "stream",
          "text": [
            "B1108.jpg\n"
          ],
          "name": "stdout"
        },
        {
          "output_type": "display_data",
          "data": {
            "image/png": "[encoded data removed]",
            "text/plain": [
              "<PIL.Image.Image image mode=L size=200x200 at 0x7FDA0212E940>"
            ]
          },
          "metadata": {
            "tags": []
          }
        },
        {
          "output_type": "stream",
          "text": [
            "B2664.jpg\n"
          ],
          "name": "stdout"
        },
        {
          "output_type": "display_data",
          "data": {
            "image/png": "[encoded data removed]",
            "text/plain": [
              "<PIL.Image.Image image mode=L size=200x200 at 0x7FDA0212E828>"
            ]
          },
          "metadata": {
            "tags": []
          }
        },
        {
          "output_type": "stream",
          "text": [
            "B1616.jpg\n"
          ],
          "name": "stdout"
        },
        {
          "output_type": "display_data",
          "data": {
            "image/png": "[encoded data removed]",
            "text/plain": [
              "<PIL.Image.Image image mode=L size=200x200 at 0x7FDA020A6EF0>"
            ]
          },
          "metadata": {
            "tags": []
          }
        },
        {
          "output_type": "stream",
          "text": [
            "C309.jpg\n"
          ],
          "name": "stdout"
        },
        {
          "output_type": "display_data",
          "data": {
            "image/png": "[encoded data removed]",
            "text/plain": [
              "<PIL.Image.Image image mode=L size=200x200 at 0x7FDA0212E860>"
            ]
          },
          "metadata": {
            "tags": []
          }
        },
        {
          "output_type": "stream",
          "text": [
            "C2214.jpg\n"
          ],
          "name": "stdout"
        },
        {
          "output_type": "display_data",
          "data": {
            "image/png": "[encoded data removed]",
            "text/plain": [
              "<PIL.Image.Image image mode=L size=200x200 at 0x7FDA0212E860>"
            ]
          },
          "metadata": {
            "tags": []
          }
        },
        {
          "output_type": "stream",
          "text": [
            "C415.jpg\n"
          ],
          "name": "stdout"
        },
        {
          "output_type": "display_data",
          "data": {
            "image/png": "[encoded data removed]",
            "text/plain": [
              "<PIL.Image.Image image mode=L size=200x200 at 0x7FDA0212E940>"
            ]
          },
          "metadata": {
            "tags": []
          }
        },
        {
          "output_type": "stream",
          "text": [
            "I2545.jpg\n"
          ],
          "name": "stdout"
        },
        {
          "output_type": "display_data",
          "data": {
            "image/png": "[encoded data removed]",
            "text/plain": [
              "<PIL.Image.Image image mode=L size=200x200 at 0x7FDA0212E860>"
            ]
          },
          "metadata": {
            "tags": []
          }
        },
        {
          "output_type": "stream",
          "text": [
            "I1981.jpg\n"
          ],
          "name": "stdout"
        },
        {
          "output_type": "display_data",
          "data": {
            "image/png": "[encoded data removed]",
            "text/plain": [
              "<PIL.Image.Image image mode=L size=200x200 at 0x7FDA0212E6D8>"
            ]
          },
          "metadata": {
            "tags": []
          }
        },
        {
          "output_type": "stream",
          "text": [
            "I2894.jpg\n"
          ],
          "name": "stdout"
        },
        {
          "output_type": "display_data",
          "data": {
            "image/png": "[encoded data removed]",
            "text/plain": [
              "<PIL.Image.Image image mode=L size=200x200 at 0x7FDA0212E710>"
            ]
          },
          "metadata": {
            "tags": []
          }
        },
        {
          "output_type": "stream",
          "text": [
            "F1311.jpg\n"
          ],
          "name": "stdout"
        },
        {
          "output_type": "display_data",
          "data": {
            "image/png": "[encoded data removed]",
            "text/plain": [
              "<PIL.Image.Image image mode=L size=200x200 at 0x7FDA0212E710>"
            ]
          },
          "metadata": {
            "tags": []
          }
        },
        {
          "output_type": "stream",
          "text": [
            "F2690.jpg\n"
          ],
          "name": "stdout"
        },
        {
          "output_type": "display_data",
          "data": {
            "image/png": "[encoded data removed]",
            "text/plain": [
              "<PIL.Image.Image image mode=L size=200x200 at 0x7FDA0212E630>"
            ]
          },
          "metadata": {
            "tags": []
          }
        },
        {
          "output_type": "stream",
          "text": [
            "F1080.jpg\n"
          ],
          "name": "stdout"
        },
        {
          "output_type": "display_data",
          "data": {
            "image/png": "[encoded data removed]",
            "text/plain": [
              "<PIL.Image.Image image mode=L size=200x200 at 0x7FDA0212E6A0>"
            ]
          },
          "metadata": {
            "tags": []
          }
        },
        {
          "output_type": "stream",
          "text": [
            "nothing1242.jpg\n"
          ],
          "name": "stdout"
        },
        {
          "output_type": "display_data",
          "data": {
            "image/png": "[encoded data removed]",
            "text/plain": [
              "<PIL.Image.Image image mode=L size=200x200 at 0x7FDA02118358>"
            ]
          },
          "metadata": {
            "tags": []
          }
        },
        {
          "output_type": "stream",
          "text": [
            "nothing521.jpg\n"
          ],
          "name": "stdout"
        },
        {
          "output_type": "display_data",
          "data": {
            "image/png": "[encoded data removed]",
            "text/plain": [
              "<PIL.Image.Image image mode=L size=200x200 at 0x7FDA02118320>"
            ]
          },
          "metadata": {
            "tags": []
          }
        },
        {
          "output_type": "stream",
          "text": [
            "nothing42.jpg\n"
          ],
          "name": "stdout"
        },
        {
          "output_type": "display_data",
          "data": {
            "image/png": "[encoded data removed]",
            "text/plain": [
              "<PIL.Image.Image image mode=L size=200x200 at 0x7FDA021183C8>"
            ]
          },
          "metadata": {
            "tags": []
          }
        },
        {
          "output_type": "stream",
          "text": [
            "G2555.jpg\n"
          ],
          "name": "stdout"
        },
        {
          "output_type": "display_data",
          "data": {
            "image/png": "[encoded data removed]",
            "text/plain": [
              "<PIL.Image.Image image mode=L size=200x200 at 0x7FDA0212E7B8>"
            ]
          },
          "metadata": {
            "tags": []
          }
        },
        {
          "output_type": "stream",
          "text": [
            "G1757.jpg\n"
          ],
          "name": "stdout"
        },
        {
          "output_type": "display_data",
          "data": {
            "image/png": "[encoded data removed]",
            "text/plain": [
              "<PIL.Image.Image image mode=L size=200x200 at 0x7FDA0212E6A0>"
            ]
          },
          "metadata": {
            "tags": []
          }
        },
        {
          "output_type": "stream",
          "text": [
            "G2027.jpg\n"
          ],
          "name": "stdout"
        },
        {
          "output_type": "display_data",
          "data": {
            "image/png": "[encoded data removed]",
            "text/plain": [
              "<PIL.Image.Image image mode=L size=200x200 at 0x7FDA0212E630>"
            ]
          },
          "metadata": {
            "tags": []
          }
        },
        {
          "output_type": "stream",
          "text": [
            "D2549.jpg\n"
          ],
          "name": "stdout"
        },
        {
          "output_type": "display_data",
          "data": {
            "image/png": "[encoded data removed]",
            "text/plain": [
              "<PIL.Image.Image image mode=L size=200x200 at 0x7FDA0212E6A0>"
            ]
          },
          "metadata": {
            "tags": []
          }
        },
        {
          "output_type": "stream",
          "text": [
            "D436.jpg\n"
          ],
          "name": "stdout"
        },
        {
          "output_type": "display_data",
          "data": {
            "image/png": "[encoded data removed]",
            "text/plain": [
              "<PIL.Image.Image image mode=L size=200x200 at 0x7FDA0212E860>"
            ]
          },
          "metadata": {
            "tags": []
          }
        },
        {
          "output_type": "stream",
          "text": [
            "D244.jpg\n"
          ],
          "name": "stdout"
        },
        {
          "output_type": "display_data",
          "data": {
            "image/png": "[encoded data removed]",
            "text/plain": [
              "<PIL.Image.Image image mode=L size=200x200 at 0x7FDA0212E7B8>"
            ]
          },
          "metadata": {
            "tags": []
          }
        },
        {
          "output_type": "stream",
          "text": [
            "E535.jpg\n"
          ],
          "name": "stdout"
        },
        {
          "output_type": "display_data",
          "data": {
            "image/png": "[encoded data removed]",
            "text/plain": [
              "<PIL.Image.Image image mode=L size=200x200 at 0x7FDA0212E630>"
            ]
          },
          "metadata": {
            "tags": []
          }
        },
        {
          "output_type": "stream",
          "text": [
            "E1740.jpg\n"
          ],
          "name": "stdout"
        },
        {
          "output_type": "display_data",
          "data": {
            "image/png": "[encoded data removed]",
            "text/plain": [
              "<PIL.Image.Image image mode=L size=200x200 at 0x7FDA0212E7B8>"
            ]
          },
          "metadata": {
            "tags": []
          }
        },
        {
          "output_type": "stream",
          "text": [
            "E375.jpg\n"
          ],
          "name": "stdout"
        },
        {
          "output_type": "display_data",
          "data": {
            "image/png": "[encoded data removed]",
            "text/plain": [
              "<PIL.Image.Image image mode=L size=200x200 at 0x7FDA0212E860>"
            ]
          },
          "metadata": {
            "tags": []
          }
        },
        {
          "output_type": "stream",
          "text": [
            "H1823.jpg\n"
          ],
          "name": "stdout"
        },
        {
          "output_type": "display_data",
          "data": {
            "image/png": "[encoded data removed]",
            "text/plain": [
              "<PIL.Image.Image image mode=L size=200x200 at 0x7FDA0212E518>"
            ]
          },
          "metadata": {
            "tags": []
          }
        },
        {
          "output_type": "stream",
          "text": [
            "H370.jpg\n"
          ],
          "name": "stdout"
        },
        {
          "output_type": "display_data",
          "data": {
            "image/png": "[encoded data removed]",
            "text/plain": [
              "<PIL.Image.Image image mode=L size=200x200 at 0x7FDA0212E860>"
            ]
          },
          "metadata": {
            "tags": []
          }
        },
        {
          "output_type": "stream",
          "text": [
            "H702.jpg\n"
          ],
          "name": "stdout"
        },
        {
          "output_type": "display_data",
          "data": {
            "image/png": "[encoded data removed]",
            "text/plain": [
              "<PIL.Image.Image image mode=L size=200x200 at 0x7FDA0212E630>"
            ]
          },
          "metadata": {
            "tags": []
          }
        }
      ]
    },
    {
      "cell_type": "code",
      "metadata": {
        "id": "KNme5zsSOgud",
        "colab_type": "code",
        "outputId": "068aeb49-8235-4518-b28c-bba7a8250267",
        "colab": {
          "base_uri": "https://localhost:8080/",
          "height": 1000
        }
      },
      "source": [
        "for item in os.listdir('Lab0609'):\n",
        "  i=0\n",
        "  for image in os.listdir('Lab0609/'+item):\n",
        "    img=cv2.imread('Lab0609/'+item+'/'+image)\n",
        "    i+=1\n",
        "    if i%10 == 0:\n",
        "      print(image)\n",
        "      gray_img=cv2.cvtColor(img,cv2.COLOR_BGR2GRAY)\n",
        "      thresh_img = cv2.adaptiveThreshold(gray_img,255,cv2.ADAPTIVE_THRESH_MEAN_C,cv2.THRESH_BINARY,100,2)\n",
        "    \n",
        "      cv2_imshow(thresh_img)\n",
        "\n",
        "    if i%50 == 0:\n",
        "      break"
      ],
      "execution_count": 0,
      "outputs": [
        {
          "output_type": "stream",
          "text": [
            "A2348.jpg\n"
          ],
          "name": "stdout"
        },
        {
          "output_type": "display_data",
          "data": {
            "image/png": "[encoded data removed]",
            "text/plain": [
              "<PIL.Image.Image image mode=L size=200x200 at 0x7FDA02121D30>"
            ]
          },
          "metadata": {
            "tags": []
          }
        },
        {
          "output_type": "stream",
          "text": [
            "A1157.jpg\n"
          ],
          "name": "stdout"
        },
        {
          "output_type": "display_data",
          "data": {
            "image/png": "[encoded data removed]",
            "text/plain": [
              "<PIL.Image.Image image mode=L size=200x200 at 0x7FDA02121CC0>"
            ]
          },
          "metadata": {
            "tags": []
          }
        },
        {
          "output_type": "stream",
          "text": [
            "A1817.jpg\n"
          ],
          "name": "stdout"
        },
        {
          "output_type": "display_data",
          "data": {
            "image/png": "[encoded data removed]",
            "text/plain": [
              "<PIL.Image.Image image mode=L size=200x200 at 0x7FDA02121E10>"
            ]
          },
          "metadata": {
            "tags": []
          }
        },
        {
          "output_type": "stream",
          "text": [
            "B1108.jpg\n"
          ],
          "name": "stdout"
        },
        {
          "output_type": "display_data",
          "data": {
            "image/png": "[encoded data removed]",
            "text/plain": [
              "<PIL.Image.Image image mode=L size=200x200 at 0x7FDA02125D30>"
            ]
          },
          "metadata": {
            "tags": []
          }
        },
        {
          "output_type": "stream",
          "text": [
            "B2664.jpg\n"
          ],
          "name": "stdout"
        },
        {
          "output_type": "display_data",
          "data": {
            "image/png": "[encoded data removed]",
            "text/plain": [
              "<PIL.Image.Image image mode=L size=200x200 at 0x7FDA02125DA0>"
            ]
          },
          "metadata": {
            "tags": []
          }
        },
        {
          "output_type": "stream",
          "text": [
            "B1616.jpg\n"
          ],
          "name": "stdout"
        },
        {
          "output_type": "display_data",
          "data": {
            "image/png": "[encoded data removed]",
            "text/plain": [
              "<PIL.Image.Image image mode=L size=200x200 at 0x7FDA02125D30>"
            ]
          },
          "metadata": {
            "tags": []
          }
        },
        {
          "output_type": "stream",
          "text": [
            "C309.jpg\n"
          ],
          "name": "stdout"
        },
        {
          "output_type": "display_data",
          "data": {
            "image/png": "[encoded data removed]",
            "text/plain": [
              "<PIL.Image.Image image mode=L size=200x200 at 0x7FDA02126D30>"
            ]
          },
          "metadata": {
            "tags": []
          }
        },
        {
          "output_type": "stream",
          "text": [
            "C2214.jpg\n"
          ],
          "name": "stdout"
        },
        {
          "output_type": "display_data",
          "data": {
            "image/png": "[encoded data removed]",
            "text/plain": [
              "<PIL.Image.Image image mode=L size=200x200 at 0x7FDA02126CC0>"
            ]
          },
          "metadata": {
            "tags": []
          }
        },
        {
          "output_type": "stream",
          "text": [
            "C415.jpg\n"
          ],
          "name": "stdout"
        },
        {
          "output_type": "display_data",
          "data": {
            "image/png": "[encoded data removed]",
            "text/plain": [
              "<PIL.Image.Image image mode=L size=200x200 at 0x7FDA02126E10>"
            ]
          },
          "metadata": {
            "tags": []
          }
        },
        {
          "output_type": "stream",
          "text": [
            "I2545.jpg\n"
          ],
          "name": "stdout"
        },
        {
          "output_type": "display_data",
          "data": {
            "image/png": "[encoded data removed]",
            "text/plain": [
              "<PIL.Image.Image image mode=L size=200x200 at 0x7FDA02122D30>"
            ]
          },
          "metadata": {
            "tags": []
          }
        },
        {
          "output_type": "stream",
          "text": [
            "I1981.jpg\n"
          ],
          "name": "stdout"
        },
        {
          "output_type": "display_data",
          "data": {
            "image/png": "[encoded data removed]",
            "text/plain": [
              "<PIL.Image.Image image mode=L size=200x200 at 0x7FDA02122CC0>"
            ]
          },
          "metadata": {
            "tags": []
          }
        },
        {
          "output_type": "stream",
          "text": [
            "I2894.jpg\n"
          ],
          "name": "stdout"
        },
        {
          "output_type": "display_data",
          "data": {
            "image/png": "[encoded data removed]",
            "text/plain": [
              "<PIL.Image.Image image mode=L size=200x200 at 0x7FDA02122D30>"
            ]
          },
          "metadata": {
            "tags": []
          }
        },
        {
          "output_type": "stream",
          "text": [
            "F1311.jpg\n"
          ],
          "name": "stdout"
        },
        {
          "output_type": "display_data",
          "data": {
            "image/png": "[encoded data removed]",
            "text/plain": [
              "<PIL.Image.Image image mode=L size=200x200 at 0x7FDA02128D30>"
            ]
          },
          "metadata": {
            "tags": []
          }
        },
        {
          "output_type": "stream",
          "text": [
            "F2690.jpg\n"
          ],
          "name": "stdout"
        },
        {
          "output_type": "display_data",
          "data": {
            "image/png": "[encoded data removed]",
            "text/plain": [
              "<PIL.Image.Image image mode=L size=200x200 at 0x7FDA02128CC0>"
            ]
          },
          "metadata": {
            "tags": []
          }
        },
        {
          "output_type": "stream",
          "text": [
            "F1080.jpg\n"
          ],
          "name": "stdout"
        },
        {
          "output_type": "display_data",
          "data": {
            "image/png": "[encoded data removed]",
            "text/plain": [
              "<PIL.Image.Image image mode=L size=200x200 at 0x7FDA02128CF8>"
            ]
          },
          "metadata": {
            "tags": []
          }
        },
        {
          "output_type": "stream",
          "text": [
            "nothing1242.jpg\n"
          ],
          "name": "stdout"
        },
        {
          "output_type": "display_data",
          "data": {
            "image/png": "[encoded data removed]",
            "text/plain": [
              "<PIL.Image.Image image mode=L size=200x200 at 0x7FDA020C3748>"
            ]
          },
          "metadata": {
            "tags": []
          }
        },
        {
          "output_type": "stream",
          "text": [
            "nothing521.jpg\n"
          ],
          "name": "stdout"
        },
        {
          "output_type": "display_data",
          "data": {
            "image/png": "[encoded data removed]",
            "text/plain": [
              "<PIL.Image.Image image mode=L size=200x200 at 0x7FDA020C3710>"
            ]
          },
          "metadata": {
            "tags": []
          }
        },
        {
          "output_type": "stream",
          "text": [
            "nothing42.jpg\n"
          ],
          "name": "stdout"
        },
        {
          "output_type": "display_data",
          "data": {
            "image/png": "[encoded data removed]",
            "text/plain": [
              "<PIL.Image.Image image mode=L size=200x200 at 0x7FDA020C3860>"
            ]
          },
          "metadata": {
            "tags": []
          }
        },
        {
          "output_type": "stream",
          "text": [
            "G2555.jpg\n"
          ],
          "name": "stdout"
        },
        {
          "output_type": "display_data",
          "data": {
            "image/png": "[encoded data removed]",
            "text/plain": [
              "<PIL.Image.Image image mode=L size=200x200 at 0x7FDA02123D30>"
            ]
          },
          "metadata": {
            "tags": []
          }
        },
        {
          "output_type": "stream",
          "text": [
            "G1757.jpg\n"
          ],
          "name": "stdout"
        },
        {
          "output_type": "display_data",
          "data": {
            "image/png": "[encoded data removed]",
            "text/plain": [
              "<PIL.Image.Image image mode=L size=200x200 at 0x7FDA02123CF8>"
            ]
          },
          "metadata": {
            "tags": []
          }
        },
        {
          "output_type": "stream",
          "text": [
            "G2027.jpg\n"
          ],
          "name": "stdout"
        },
        {
          "output_type": "display_data",
          "data": {
            "image/png": "[encoded data removed]",
            "text/plain": [
              "<PIL.Image.Image image mode=L size=200x200 at 0x7FDA02123D30>"
            ]
          },
          "metadata": {
            "tags": []
          }
        },
        {
          "output_type": "stream",
          "text": [
            "D2549.jpg\n"
          ],
          "name": "stdout"
        },
        {
          "output_type": "display_data",
          "data": {
            "image/png": "[encoded data removed]",
            "text/plain": [
              "<PIL.Image.Image image mode=L size=200x200 at 0x7FDA02124D30>"
            ]
          },
          "metadata": {
            "tags": []
          }
        },
        {
          "output_type": "stream",
          "text": [
            "D436.jpg\n"
          ],
          "name": "stdout"
        },
        {
          "output_type": "display_data",
          "data": {
            "image/png": "[encoded data removed]",
            "text/plain": [
              "<PIL.Image.Image image mode=L size=200x200 at 0x7FDA02124D30>"
            ]
          },
          "metadata": {
            "tags": []
          }
        },
        {
          "output_type": "stream",
          "text": [
            "D244.jpg\n"
          ],
          "name": "stdout"
        },
        {
          "output_type": "display_data",
          "data": {
            "image/png": "[encoded data removed]",
            "text/plain": [
              "<PIL.Image.Image image mode=L size=200x200 at 0x7FDA02124CF8>"
            ]
          },
          "metadata": {
            "tags": []
          }
        },
        {
          "output_type": "stream",
          "text": [
            "E535.jpg\n"
          ],
          "name": "stdout"
        },
        {
          "output_type": "display_data",
          "data": {
            "image/png": "[encoded data removed]",
            "text/plain": [
              "<PIL.Image.Image image mode=L size=200x200 at 0x7FDA02116DD8>"
            ]
          },
          "metadata": {
            "tags": []
          }
        },
        {
          "output_type": "stream",
          "text": [
            "E1740.jpg\n"
          ],
          "name": "stdout"
        },
        {
          "output_type": "display_data",
          "data": {
            "image/png": "[encoded data removed]",
            "text/plain": [
              "<PIL.Image.Image image mode=L size=200x200 at 0x7FDA02116E10>"
            ]
          },
          "metadata": {
            "tags": []
          }
        },
        {
          "output_type": "stream",
          "text": [
            "E375.jpg\n"
          ],
          "name": "stdout"
        },
        {
          "output_type": "display_data",
          "data": {
            "image/png": "[encoded data removed]",
            "text/plain": [
              "<PIL.Image.Image image mode=L size=200x200 at 0x7FDA02116DA0>"
            ]
          },
          "metadata": {
            "tags": []
          }
        },
        {
          "output_type": "stream",
          "text": [
            "H1823.jpg\n"
          ],
          "name": "stdout"
        },
        {
          "output_type": "display_data",
          "data": {
            "image/png": "[encoded data removed]",
            "text/plain": [
              "<PIL.Image.Image image mode=L size=200x200 at 0x7FDA0212AD30>"
            ]
          },
          "metadata": {
            "tags": []
          }
        },
        {
          "output_type": "stream",
          "text": [
            "H370.jpg\n"
          ],
          "name": "stdout"
        },
        {
          "output_type": "display_data",
          "data": {
            "image/png": "[encoded data removed]",
            "text/plain": [
              "<PIL.Image.Image image mode=L size=200x200 at 0x7FDA0212ACC0>"
            ]
          },
          "metadata": {
            "tags": []
          }
        },
        {
          "output_type": "stream",
          "text": [
            "H702.jpg\n"
          ],
          "name": "stdout"
        },
        {
          "output_type": "display_data",
          "data": {
            "image/png": "[encoded data removed]",
            "text/plain": [
              "<PIL.Image.Image image mode=L size=200x200 at 0x7FDA0212AD30>"
            ]
          },
          "metadata": {
            "tags": []
          }
        }
      ]
    },
    {
      "cell_type": "code",
      "metadata": {
        "id": "httgs-008Unw",
        "colab_type": "code",
        "colab": {}
      },
      "source": [
        "# labelling index\n",
        "\n",
        "label2index = {'A':0, 'B':1, 'C':2, 'D':3, 'E':4, 'F':5, 'G':6, 'H':7, 'I':8, 'nothing':9}"
      ],
      "execution_count": 0,
      "outputs": []
    },
    {
      "cell_type": "code",
      "metadata": {
        "id": "AMILt-k5Jp5p",
        "colab_type": "code",
        "colab": {}
      },
      "source": [
        "import pickle"
      ],
      "execution_count": 0,
      "outputs": []
    },
    {
      "cell_type": "markdown",
      "metadata": {
        "id": "r0pncwlUvOy6",
        "colab_type": "text"
      },
      "source": [
        "removing the board part"
      ]
    },
    {
      "cell_type": "code",
      "metadata": {
        "id": "_tAGKg5QRYrA",
        "colab_type": "code",
        "outputId": "1d09512c-7d4e-46d8-89c0-2bbd6a64ee14",
        "colab": {
          "base_uri": "https://localhost:8080/",
          "height": 518
        }
      },
      "source": [
        "adaptive_feature = list()\n",
        "feature_label = list()\n",
        "i = 0\n",
        "for item in os.listdir('Lab0609'):\n",
        "  for image in os.listdir('Lab0609/'+item):\n",
        "    i+=1\n",
        "    if i%1000 == 0:\n",
        "      print('Creating Features for path: Lab0609/'+item+'/'+image)\n",
        "    img=cv2.imread('Lab0609/'+item+'/'+image)\n",
        "    gray_img=cv2.cvtColor(img,cv2.COLOR_BGR2GRAY)\n",
        "    thresh_img = cv2.adaptiveThreshold(gray_img,255,cv2.ADAPTIVE_THRESH_MEAN_C,cv2.THRESH_BINARY,100,2)\n",
        "    thresh_img = thresh_img[40:160, 40:160]\n",
        "    x1 = np.sum(thresh_img, axis=1)\n",
        "    x2 = np.sum(thresh_img, axis=0)\n",
        "    x = np.zeros(shape=(240,))\n",
        "    x[:120] = x1\n",
        "    x[120:] = x2\n",
        "    x = x/255\n",
        "    x = list(x)\n",
        "\n",
        "    adaptive_feature.append(x)\n",
        "    feature_label.append(label2index[item])"
      ],
      "execution_count": 0,
      "outputs": [
        {
          "output_type": "stream",
          "text": [
            "Creating Features for path: Lab0609/A/A915.jpg\n",
            "Creating Features for path: Lab0609/A/A2617.jpg\n",
            "Creating Features for path: Lab0609/A/A181.jpg\n",
            "Creating Features for path: Lab0609/B/B2463.jpg\n",
            "Creating Features for path: Lab0609/B/B1219.jpg\n",
            "Creating Features for path: Lab0609/B/B1239.jpg\n",
            "Creating Features for path: Lab0609/C/C1194.jpg\n",
            "Creating Features for path: Lab0609/C/C326.jpg\n",
            "Creating Features for path: Lab0609/C/C1103.jpg\n",
            "Creating Features for path: Lab0609/I/I956.jpg\n",
            "Creating Features for path: Lab0609/I/I289.jpg\n",
            "Creating Features for path: Lab0609/I/I2172.jpg\n",
            "Creating Features for path: Lab0609/F/F516.jpg\n",
            "Creating Features for path: Lab0609/F/F1904.jpg\n",
            "Creating Features for path: Lab0609/F/F2949.jpg\n",
            "Creating Features for path: Lab0609/nothing/nothing316.jpg\n",
            "Creating Features for path: Lab0609/nothing/nothing1546.jpg\n",
            "Creating Features for path: Lab0609/nothing/nothing506.jpg\n",
            "Creating Features for path: Lab0609/G/G1882.jpg\n",
            "Creating Features for path: Lab0609/G/G982.jpg\n",
            "Creating Features for path: Lab0609/G/G2704.jpg\n",
            "Creating Features for path: Lab0609/D/D2747.jpg\n",
            "Creating Features for path: Lab0609/D/D2526.jpg\n",
            "Creating Features for path: Lab0609/D/D647.jpg\n",
            "Creating Features for path: Lab0609/E/E929.jpg\n",
            "Creating Features for path: Lab0609/E/E2645.jpg\n",
            "Creating Features for path: Lab0609/E/E1401.jpg\n",
            "Creating Features for path: Lab0609/H/H1833.jpg\n",
            "Creating Features for path: Lab0609/H/H818.jpg\n",
            "Creating Features for path: Lab0609/H/H1704.jpg\n"
          ],
          "name": "stdout"
        }
      ]
    },
    {
      "cell_type": "code",
      "metadata": {
        "id": "sxSAKXP1_QYS",
        "colab_type": "code",
        "outputId": "73c2a1ee-9407-4387-a269-ac141d2a4787",
        "colab": {
          "base_uri": "https://localhost:8080/",
          "height": 33
        }
      },
      "source": [
        "print(set(feature_label))\n",
        "df = pd.DataFrame(columns = ['Features', 'Label'])\n",
        "df['Features'] = adaptive_feature\n",
        "df['Label'] = feature_label\n",
        "df.to_csv('Pattern_features.csv')\n",
        "\n",
        "\n"
      ],
      "execution_count": 0,
      "outputs": [
        {
          "output_type": "stream",
          "text": [
            "{0, 1, 2, 3, 4, 5, 6, 7, 8, 9}\n"
          ],
          "name": "stdout"
        }
      ]
    },
    {
      "cell_type": "code",
      "metadata": {
        "id": "n1FUWkfKBgxW",
        "colab_type": "code",
        "outputId": "bcad0b2d-5189-4339-c461-1e6709f81dc7",
        "colab": {
          "base_uri": "https://localhost:8080/",
          "height": 217
        }
      },
      "source": [
        "img=cv2.imread('Lab0609/A/A3.jpg')\n",
        "gray_img=cv2.cvtColor(img,cv2.COLOR_BGR2GRAY)\n",
        "ret,thresh_img = cv2.threshold(gray_img,50,255,cv2.THRESH_BINARY)\n",
        "cv2_imshow(thresh_img)\n"
      ],
      "execution_count": 0,
      "outputs": [
        {
          "output_type": "display_data",
          "data": {
            "image/png": "[encoded data removed]",
            "text/plain": [
              "<PIL.Image.Image image mode=L size=200x200 at 0x7F7AB48B56D8>"
            ]
          },
          "metadata": {
            "tags": []
          }
        }
      ]
    },
    {
      "cell_type": "code",
      "metadata": {
        "id": "eq6KSCvVHEMZ",
        "colab_type": "code",
        "outputId": "08c7d7e7-6b18-4d08-85f9-b4acbba10384",
        "colab": {
          "base_uri": "https://localhost:8080/",
          "height": 150
        }
      },
      "source": [
        "print(thresh_img.shape)\n",
        "print(thresh_img)"
      ],
      "execution_count": 0,
      "outputs": [
        {
          "output_type": "stream",
          "text": [
            "(200, 200)\n",
            "[[  0   0   0 ...   0   0   0]\n",
            " [  0   0   0 ...   0   0   0]\n",
            " [  0   0   0 ... 255 255   0]\n",
            " ...\n",
            " [  0   0 255 ... 255 255   0]\n",
            " [  0   0 255 ... 255 255   0]\n",
            " [  0   0   0 ...   0   0   0]]\n"
          ],
          "name": "stdout"
        }
      ]
    },
    {
      "cell_type": "code",
      "metadata": {
        "id": "f9Gq3oxaCaUW",
        "colab_type": "code",
        "outputId": "1bef9b7f-2241-47db-ce3d-f895c4137ab4",
        "colab": {
          "base_uri": "https://localhost:8080/",
          "height": 217
        }
      },
      "source": [
        "# Adaptive Thresholding with 85 as threshold\n",
        "\n",
        "img=cv2.imread('Lab0609/A/A111.jpg')\n",
        "gray_img=cv2.cvtColor(img,cv2.COLOR_BGR2GRAY)\n",
        "thresh_img = cv2.adaptiveThreshold(gray_img,255,cv2.ADAPTIVE_THRESH_MEAN_C,cv2.THRESH_BINARY,85,2)\n",
        "cv2_imshow(thresh_img)"
      ],
      "execution_count": 0,
      "outputs": [
        {
          "output_type": "display_data",
          "data": {
            "image/png": "[encoded data removed]",
            "text/plain": [
              "<PIL.Image.Image image mode=L size=200x200 at 0x7F7AA9AA5898>"
            ]
          },
          "metadata": {
            "tags": []
          }
        }
      ]
    },
    {
      "cell_type": "code",
      "metadata": {
        "id": "k9hLdxpjDoMY",
        "colab_type": "code",
        "outputId": "d1109843-f1b4-4fcc-cec9-8bce6e74ac21",
        "colab": {
          "base_uri": "https://localhost:8080/",
          "height": 150
        }
      },
      "source": [
        "print(thresh_img.shape)\n",
        "print(thresh_img)"
      ],
      "execution_count": 0,
      "outputs": [
        {
          "output_type": "stream",
          "text": [
            "(200, 200)\n",
            "[[  0   0   0 ...   0   0   0]\n",
            " [  0   0   0 ...   0   0   0]\n",
            " [  0   0   0 ... 255 255   0]\n",
            " ...\n",
            " [  0   0 255 ... 255 255   0]\n",
            " [  0   0 255 ... 255 255   0]\n",
            " [  0   0   0 ...   0   0   0]]\n"
          ],
          "name": "stdout"
        }
      ]
    },
    {
      "cell_type": "code",
      "metadata": {
        "id": "w1HqTdnIr4NQ",
        "colab_type": "code",
        "outputId": "bc6cd992-7a36-4cae-b05c-0dbb8d1abcc2",
        "colab": {
          "base_uri": "https://localhost:8080/",
          "height": 196
        }
      },
      "source": [
        "df = pd.read_csv('Pattern_features.csv')\n",
        "df.head()"
      ],
      "execution_count": 0,
      "outputs": [
        {
          "output_type": "execute_result",
          "data": {
            "text/html": [
              "<div>\n",
              "<style scoped>\n",
              "    .dataframe tbody tr th:only-of-type {\n",
              "        vertical-align: middle;\n",
              "    }\n",
              "\n",
              "    .dataframe tbody tr th {\n",
              "        vertical-align: top;\n",
              "    }\n",
              "\n",
              "    .dataframe thead th {\n",
              "        text-align: right;\n",
              "    }\n",
              "</style>\n",
              "<table border=\"1\" class=\"dataframe\">\n",
              "  <thead>\n",
              "    <tr style=\"text-align: right;\">\n",
              "      <th></th>\n",
              "      <th>Unnamed: 0</th>\n",
              "      <th>Features</th>\n",
              "      <th>Label</th>\n",
              "    </tr>\n",
              "  </thead>\n",
              "  <tbody>\n",
              "    <tr>\n",
              "      <th>0</th>\n",
              "      <td>0</td>\n",
              "      <td>[89.0, 93.0, 95.0, 101.0, 104.0, 107.0, 98.0, ...</td>\n",
              "      <td>0</td>\n",
              "    </tr>\n",
              "    <tr>\n",
              "      <th>1</th>\n",
              "      <td>1</td>\n",
              "      <td>[91.0, 98.0, 102.0, 108.0, 115.0, 117.0, 116.0...</td>\n",
              "      <td>0</td>\n",
              "    </tr>\n",
              "    <tr>\n",
              "      <th>2</th>\n",
              "      <td>2</td>\n",
              "      <td>[87.0, 96.0, 101.0, 99.0, 104.0, 106.0, 104.0,...</td>\n",
              "      <td>0</td>\n",
              "    </tr>\n",
              "    <tr>\n",
              "      <th>3</th>\n",
              "      <td>3</td>\n",
              "      <td>[48.0, 48.0, 48.0, 47.0, 47.0, 47.0, 47.0, 45....</td>\n",
              "      <td>0</td>\n",
              "    </tr>\n",
              "    <tr>\n",
              "      <th>4</th>\n",
              "      <td>4</td>\n",
              "      <td>[89.0, 100.0, 101.0, 106.0, 109.0, 112.0, 112....</td>\n",
              "      <td>0</td>\n",
              "    </tr>\n",
              "  </tbody>\n",
              "</table>\n",
              "</div>"
            ],
            "text/plain": [
              "   Unnamed: 0                                           Features  Label\n",
              "0           0  [89.0, 93.0, 95.0, 101.0, 104.0, 107.0, 98.0, ...      0\n",
              "1           1  [91.0, 98.0, 102.0, 108.0, 115.0, 117.0, 116.0...      0\n",
              "2           2  [87.0, 96.0, 101.0, 99.0, 104.0, 106.0, 104.0,...      0\n",
              "3           3  [48.0, 48.0, 48.0, 47.0, 47.0, 47.0, 47.0, 45....      0\n",
              "4           4  [89.0, 100.0, 101.0, 106.0, 109.0, 112.0, 112....      0"
            ]
          },
          "metadata": {
            "tags": []
          },
          "execution_count": 7
        }
      ]
    },
    {
      "cell_type": "code",
      "metadata": {
        "id": "kqDGbOTXA-ip",
        "colab_type": "code",
        "outputId": "6e8b11e8-595a-44a9-81e8-3e341f868c8f",
        "colab": {
          "base_uri": "https://localhost:8080/",
          "height": 33
        }
      },
      "source": [
        "len(df)"
      ],
      "execution_count": 0,
      "outputs": [
        {
          "output_type": "execute_result",
          "data": {
            "text/plain": [
              "30000"
            ]
          },
          "metadata": {
            "tags": []
          },
          "execution_count": 8
        }
      ]
    },
    {
      "cell_type": "code",
      "metadata": {
        "id": "31ZYx2nIvirX",
        "colab_type": "code",
        "outputId": "167a38c2-5a7d-42de-cc6e-a2c1e18c6332",
        "colab": {
          "base_uri": "https://localhost:8080/",
          "height": 117
        }
      },
      "source": [
        "# list with features and label\n",
        "\n",
        "adaptive_feature = list()\n",
        "feature_label = list()\n",
        "\n",
        "for i in range(30000):\n",
        "\n",
        "  if i%5000 == 0:\n",
        "    print(i)\n",
        "\n",
        "  x = df.iloc[i]['Features']\n",
        "  y = df.iloc[i]['Label']\n",
        "  x = x.replace(',',' ')\n",
        "  x = list(map(float,x[1:-1].strip().split()))\n",
        "\n",
        "  adaptive_feature.append(x)\n",
        "  feature_label.append(y)"
      ],
      "execution_count": 0,
      "outputs": [
        {
          "output_type": "stream",
          "text": [
            "0\n",
            "5000\n",
            "10000\n",
            "15000\n",
            "20000\n",
            "25000\n"
          ],
          "name": "stdout"
        }
      ]
    },
    {
      "cell_type": "code",
      "metadata": {
        "id": "30cE7k7cxn8O",
        "colab_type": "code",
        "colab": {}
      },
      "source": [
        "import pickle\n",
        "\n",
        "with open(\"adaptive_feature.txt\", \"wb\") as fp: \n",
        "  pickle.dump(adaptive_feature, fp)\n",
        "\n",
        "with open(\"feature_label.txt\", \"wb\") as fp: \n",
        "  pickle.dump(feature_label, fp)\n"
      ],
      "execution_count": 0,
      "outputs": []
    },
    {
      "cell_type": "code",
      "metadata": {
        "id": "ofs-1WJ2fqAD",
        "colab_type": "code",
        "outputId": "a10e037a-4dfa-4be8-a32d-ffad5d9845ef",
        "colab": {
          "base_uri": "https://localhost:8080/",
          "height": 137
        }
      },
      "source": [
        "# Dividing and Checking data\n",
        "\n",
        "from sklearn.model_selection import train_test_split\n",
        "\n",
        "X_train, X_test, y_train, y_test = train_test_split(adaptive_feature, feature_label, test_size=0.3, random_state=41)\n",
        "print(len(X_train))\n",
        "print(X_train[0])\n",
        "print(y_train[0])\n",
        "print(type(y_train[0]))\n",
        "print(type(X_train[0][0]))\n",
        "print(type(np.array(X_train[0])))"
      ],
      "execution_count": 0,
      "outputs": [
        {
          "output_type": "stream",
          "text": [
            "21000\n",
            "[71.0, 77.0, 87.0, 91.0, 94.0, 91.0, 92.0, 93.0, 95.0, 98.0, 98.0, 96.0, 96.0, 98.0, 98.0, 98.0, 100.0, 99.0, 101.0, 102.0, 103.0, 104.0, 106.0, 106.0, 105.0, 105.0, 105.0, 105.0, 105.0, 105.0, 106.0, 106.0, 106.0, 106.0, 106.0, 106.0, 105.0, 106.0, 107.0, 108.0, 106.0, 105.0, 106.0, 107.0, 108.0, 108.0, 109.0, 108.0, 110.0, 110.0, 110.0, 110.0, 112.0, 111.0, 111.0, 112.0, 113.0, 115.0, 115.0, 115.0, 114.0, 116.0, 117.0, 116.0, 117.0, 116.0, 117.0, 118.0, 118.0, 119.0, 119.0, 120.0, 120.0, 120.0, 105.0, 93.0, 93.0, 75.0, 75.0, 69.0, 67.0, 67.0, 68.0, 69.0, 67.0, 62.0, 58.0, 56.0, 57.0, 56.0, 55.0, 55.0, 53.0, 54.0, 56.0, 52.0, 50.0, 53.0, 53.0, 52.0, 53.0, 56.0, 58.0, 66.0, 74.0, 81.0, 83.0, 90.0, 92.0, 93.0, 94.0, 95.0, 95.0, 95.0, 94.0, 94.0, 93.0, 92.0, 92.0, 91.0, 120.0, 120.0, 120.0, 120.0, 116.0, 110.0, 105.0, 99.0, 92.0, 87.0, 88.0, 87.0, 87.0, 88.0, 90.0, 92.0, 94.0, 95.0, 99.0, 101.0, 103.0, 101.0, 103.0, 106.0, 107.0, 109.0, 112.0, 114.0, 114.0, 114.0, 117.0, 117.0, 119.0, 119.0, 120.0, 120.0, 120.0, 120.0, 120.0, 120.0, 120.0, 120.0, 120.0, 120.0, 120.0, 120.0, 120.0, 120.0, 120.0, 120.0, 119.0, 117.0, 116.0, 114.0, 113.0, 112.0, 109.0, 108.0, 106.0, 104.0, 101.0, 98.0, 95.0, 94.0, 94.0, 93.0, 92.0, 91.0, 91.0, 90.0, 89.0, 88.0, 88.0, 87.0, 86.0, 85.0, 85.0, 84.0, 82.0, 87.0, 87.0, 85.0, 85.0, 84.0, 83.0, 81.0, 75.0, 72.0, 71.0, 71.0, 65.0, 62.0, 58.0, 54.0, 53.0, 51.0, 49.0, 46.0, 44.0, 44.0, 41.0, 40.0, 38.0, 37.0, 39.0, 40.0, 49.0, 58.0, 64.0, 73.0, 82.0, 88.0, 95.0, 99.0, 101.0, 101.0, 102.0, 103.0, 105.0, 107.0]\n",
            "2\n",
            "<class 'numpy.int64'>\n",
            "<class 'float'>\n",
            "<class 'numpy.ndarray'>\n"
          ],
          "name": "stdout"
        }
      ]
    },
    {
      "cell_type": "code",
      "metadata": {
        "id": "aT97IBERHdor",
        "colab_type": "code",
        "colab": {}
      },
      "source": [
        "# Running SVM lib model\n",
        "\n",
        "from sklearn import svm\n",
        "\n",
        "clf = svm.SVC(C=5.0, kernel='rbf', gamma='scale')\n",
        "\n",
        "clf.fit(X_train, y_train)\n",
        "y_pred = clf.predict(X_test)\n"
      ],
      "execution_count": 0,
      "outputs": []
    },
    {
      "cell_type": "code",
      "metadata": {
        "id": "e7zg0KL1jG5W",
        "colab_type": "code",
        "outputId": "9789135a-e23b-4770-ab94-4c18f9ef90bd",
        "colab": {
          "base_uri": "https://localhost:8080/",
          "height": 33
        }
      },
      "source": [
        "from sklearn.metrics import accuracy_score, classification_report\n",
        "\n",
        "print('Accuracy: ', accuracy_score(y_test, y_pred))"
      ],
      "execution_count": 0,
      "outputs": [
        {
          "output_type": "stream",
          "text": [
            "Accuracy:  0.9487777777777778\n"
          ],
          "name": "stdout"
        }
      ]
    },
    {
      "cell_type": "code",
      "metadata": {
        "id": "WiJscC54jeIU",
        "colab_type": "code",
        "outputId": "f2e39508-03f6-4cfc-ca0b-294b0e6db917",
        "colab": {
          "base_uri": "https://localhost:8080/",
          "height": 301
        }
      },
      "source": [
        "print(classification_report(y_test, y_pred))"
      ],
      "execution_count": 0,
      "outputs": [
        {
          "output_type": "stream",
          "text": [
            "              precision    recall  f1-score   support\n",
            "\n",
            "           0       0.93      0.92      0.93       930\n",
            "           1       0.93      0.95      0.94       905\n",
            "           2       0.99      0.98      0.99       914\n",
            "           3       0.95      0.96      0.96       881\n",
            "           4       0.89      0.89      0.89       903\n",
            "           5       0.96      0.95      0.95       915\n",
            "           6       0.91      0.96      0.94       918\n",
            "           7       0.96      0.96      0.96       867\n",
            "           8       0.97      0.92      0.94       899\n",
            "           9       1.00      1.00      1.00       868\n",
            "\n",
            "    accuracy                           0.95      9000\n",
            "   macro avg       0.95      0.95      0.95      9000\n",
            "weighted avg       0.95      0.95      0.95      9000\n",
            "\n"
          ],
          "name": "stdout"
        }
      ]
    },
    {
      "cell_type": "code",
      "metadata": {
        "id": "jTf9fO_REcvr",
        "colab_type": "code",
        "colab": {}
      },
      "source": [
        "clf = svm.SVC(C=10.0, kernel='poly', gamma=0.1)\n",
        "\n",
        "clf.fit(X_train, y_train)\n",
        "y_pred = clf.predict(X_test)"
      ],
      "execution_count": 0,
      "outputs": []
    },
    {
      "cell_type": "code",
      "metadata": {
        "id": "0AelwEIdEeMD",
        "colab_type": "code",
        "outputId": "aee30a95-a59e-4bdb-ce1a-aa6b7b0c36d7",
        "colab": {
          "base_uri": "https://localhost:8080/",
          "height": 33
        }
      },
      "source": [
        "print('Accuracy: ', accuracy_score(y_test, y_pred))"
      ],
      "execution_count": 0,
      "outputs": [
        {
          "output_type": "stream",
          "text": [
            "Accuracy:  0.9578888888888889\n"
          ],
          "name": "stdout"
        }
      ]
    },
    {
      "cell_type": "code",
      "metadata": {
        "id": "YMeemxtREfhc",
        "colab_type": "code",
        "outputId": "956181d2-d543-4415-f8c9-844122698f46",
        "colab": {
          "base_uri": "https://localhost:8080/",
          "height": 301
        }
      },
      "source": [
        "print(classification_report(y_test, y_pred))"
      ],
      "execution_count": 0,
      "outputs": [
        {
          "output_type": "stream",
          "text": [
            "              precision    recall  f1-score   support\n",
            "\n",
            "           0       0.93      0.94      0.93       930\n",
            "           1       0.95      0.96      0.96       905\n",
            "           2       0.99      0.99      0.99       914\n",
            "           3       0.95      0.97      0.96       881\n",
            "           4       0.90      0.89      0.90       903\n",
            "           5       0.96      0.94      0.95       915\n",
            "           6       0.94      0.97      0.95       918\n",
            "           7       0.98      0.98      0.98       867\n",
            "           8       0.98      0.94      0.96       899\n",
            "           9       1.00      1.00      1.00       868\n",
            "\n",
            "    accuracy                           0.96      9000\n",
            "   macro avg       0.96      0.96      0.96      9000\n",
            "weighted avg       0.96      0.96      0.96      9000\n",
            "\n"
          ],
          "name": "stdout"
        }
      ]
    },
    {
      "cell_type": "code",
      "metadata": {
        "id": "OOiQt9thkpRn",
        "colab_type": "code",
        "colab": {}
      },
      "source": [
        "from sklearn.model_selection import GridSearchCV\n",
        "\n",
        "clf = svm.SVC()\n",
        "grid_values = {'gamma': [0.1, 1.0],'C':[1.0, 10.0], 'kernel':['poly', 'rbf']}\n",
        "grid_clf = GridSearchCV(clf, param_grid = grid_values, scoring = 'accuracy', cv=10, n_jobs=-1)\n",
        "grid_clf.fit(X_train, y_train)\n",
        "\n",
        "y_pred = grid_clf.predict(X_test)\n",
        "\n",
        "#print('Accuracy: ', accuracy_score(y_test, y_pred))\n"
      ],
      "execution_count": 0,
      "outputs": []
    },
    {
      "cell_type": "markdown",
      "metadata": {
        "id": "tAT1-WgrgbuI",
        "colab_type": "text"
      },
      "source": [
        "![alt text](https://)**Couldn't complete it within colab runtime reconnection**"
      ]
    },
    {
      "cell_type": "code",
      "metadata": {
        "id": "oaT8LYQ9ZO-T",
        "colab_type": "code",
        "outputId": "32bdc9ba-4c89-49da-a650-86003d668aef",
        "colab": {
          "base_uri": "https://localhost:8080/",
          "height": 150
        }
      },
      "source": [
        "# Gridsearchcv was not responding under colab runtime so running loop to check hyperparameters.\n",
        "\n",
        "grid_values = {'gamma': [0.1, 1.0],'C':[1.0, 10.0], 'kernel':['poly', 'rbf']}\n",
        "\n",
        "\n",
        "\n",
        "for gammas in grid_values['gamma']:\n",
        "  for Cs in grid_values['C']:\n",
        "    for kernels in grid_values['kernel']:\n",
        "      clf = svm.SVC(C=Cs, kernel=kernels, gamma=gammas)\n",
        "      clf.fit(X_train, y_train)\n",
        "      y_pred = clf.predict(X_test)\n",
        "      print('gamma: {}, C: {}, kernels: {}, Accuracy: {}'.format(gammas,Cs,kernels, accuracy_score(y_test,y_pred)))\n"
      ],
      "execution_count": 0,
      "outputs": [
        {
          "output_type": "stream",
          "text": [
            "gamma: 0.1, C: 1.0, kernels: poly, Accuracy: 0.9578888888888889\n",
            "gamma: 0.1, C: 1.0, kernels: rbf, Accuracy: 0.09633333333333334\n",
            "gamma: 0.1, C: 10.0, kernels: poly, Accuracy: 0.9578888888888889\n",
            "gamma: 0.1, C: 10.0, kernels: rbf, Accuracy: 0.09633333333333334\n",
            "gamma: 1.0, C: 1.0, kernels: poly, Accuracy: 0.9577777777777777\n",
            "gamma: 1.0, C: 1.0, kernels: rbf, Accuracy: 0.09633333333333334\n",
            "gamma: 1.0, C: 10.0, kernels: poly, Accuracy: 0.9577777777777777\n",
            "gamma: 1.0, C: 10.0, kernels: rbf, Accuracy: 0.09633333333333334\n"
          ],
          "name": "stdout"
        }
      ]
    },
    {
      "cell_type": "code",
      "metadata": {
        "id": "vcuXfFXYcu42",
        "colab_type": "code",
        "colab": {}
      },
      "source": [
        "#Taking the best Parameters\n",
        "\n",
        "clf = svm.SVC(C=10.0, kernel='poly', gamma=0.1)\n",
        "\n",
        "clf.fit(X_train, y_train)\n",
        "y_pred = clf.predict(X_test)"
      ],
      "execution_count": 0,
      "outputs": []
    },
    {
      "cell_type": "code",
      "metadata": {
        "id": "IUzfdof3swGc",
        "colab_type": "code",
        "outputId": "1d2a75c5-bcea-4f1a-815b-5083d75faf81",
        "colab": {
          "base_uri": "https://localhost:8080/",
          "height": 33
        }
      },
      "source": [
        "print('Accuracy: ', accuracy_score(y_test, y_pred))"
      ],
      "execution_count": 0,
      "outputs": [
        {
          "output_type": "stream",
          "text": [
            "Accuracy:  0.9578888888888889\n"
          ],
          "name": "stdout"
        }
      ]
    },
    {
      "cell_type": "code",
      "metadata": {
        "id": "piL6SZtKoRiI",
        "colab_type": "code",
        "outputId": "88a86b34-2026-4fc7-ca98-4f0f8e492687",
        "colab": {
          "base_uri": "https://localhost:8080/",
          "height": 301
        }
      },
      "source": [
        "print(classification_report(y_test, y_pred))"
      ],
      "execution_count": 0,
      "outputs": [
        {
          "output_type": "stream",
          "text": [
            "              precision    recall  f1-score   support\n",
            "\n",
            "           0       0.93      0.94      0.93       930\n",
            "           1       0.95      0.96      0.96       905\n",
            "           2       0.99      0.99      0.99       914\n",
            "           3       0.95      0.97      0.96       881\n",
            "           4       0.90      0.89      0.90       903\n",
            "           5       0.96      0.94      0.95       915\n",
            "           6       0.94      0.97      0.95       918\n",
            "           7       0.98      0.98      0.98       867\n",
            "           8       0.98      0.94      0.96       899\n",
            "           9       1.00      1.00      1.00       868\n",
            "\n",
            "    accuracy                           0.96      9000\n",
            "   macro avg       0.96      0.96      0.96      9000\n",
            "weighted avg       0.96      0.96      0.96      9000\n",
            "\n"
          ],
          "name": "stdout"
        }
      ]
    },
    {
      "cell_type": "code",
      "metadata": {
        "id": "PryFWbC7oveJ",
        "colab_type": "code",
        "outputId": "0d20a7fc-f069-4e47-a005-27927d2ddec2",
        "colab": {
          "base_uri": "https://localhost:8080/",
          "height": 292
        }
      },
      "source": [
        "from sklearn.metrics import confusion_matrix\n",
        "plt.matshow(confusion_matrix(y_test, y_pred))"
      ],
      "execution_count": 0,
      "outputs": [
        {
          "output_type": "execute_result",
          "data": {
            "text/plain": [
              "<matplotlib.image.AxesImage at 0x7f1add71add8>"
            ]
          },
          "metadata": {
            "tags": []
          },
          "execution_count": 26
        },
        {
          "output_type": "display_data",
          "data": {
            "image/png": "[encoded data removed]",
            "text/plain": [
              "<Figure size 288x288 with 1 Axes>"
            ]
          },
          "metadata": {
            "tags": []
          }
        }
      ]
    },
    {
      "cell_type": "code",
      "metadata": {
        "id": "iQueMVH5hre7",
        "colab_type": "code",
        "colab": {}
      },
      "source": [
        ""
      ],
      "execution_count": 0,
      "outputs": []
    }
  ]
}